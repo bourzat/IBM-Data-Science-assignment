{
 "cells": [
  {
   "cell_type": "markdown",
   "id": "d47e9686-0142-4ff7-a9a3-d292d76616d2",
   "metadata": {
    "tags": []
   },
   "source": [
    "# Data Science Tools and Ecosystem"
   ]
  },
  {
   "cell_type": "markdown",
   "id": "c8900d80-9bdb-4614-898a-7a2dedefc605",
   "metadata": {
    "tags": []
   },
   "source": [
    "In this notebook, Data Science Tools and Ecosystem are summarized."
   ]
  },
  {
   "cell_type": "markdown",
   "id": "2c2e96c6-c7a0-4677-8b3a-ef9e7be78b85",
   "metadata": {},
   "source": [
    "Some of the popular languages that Data Scientists use are:\n",
    "1. Pyhton\n",
    "2. R\n",
    "3. SQL\n",
    "4. Scala"
   ]
  },
  {
   "cell_type": "markdown",
   "id": "69451494-40b1-4fe0-9a10-2d4c0bcb6fa5",
   "metadata": {},
   "source": [
    "Some of the commonly used libraries used by Data Scientists include:\n",
    "1. Pandas\n",
    "2. Numpy\n",
    "3. Matplotlib\n",
    "4. Scikit-learn"
   ]
  },
  {
   "cell_type": "markdown",
   "id": "ddd1113c-a164-4da8-92e1-9e8c313ef692",
   "metadata": {},
   "source": [
    "| Data Science Tools         |\n",
    "|----------------------------|\n",
    "| Jupyter Notebooks          |\n",
    "| RStudio                    |\n",
    "| VS Code with Python        |\n"
   ]
  },
  {
   "cell_type": "markdown",
   "id": "33a2d42a-da0e-42bd-831a-b828229eef14",
   "metadata": {
    "tags": []
   },
   "source": [
    "### Below are a few examples of evaluating arithmetic expressions in Python"
   ]
  },
  {
   "cell_type": "code",
   "execution_count": 4,
   "id": "01ab651b-7b4e-4b55-b06b-a54409fc1ab0",
   "metadata": {
    "tags": []
   },
   "outputs": [
    {
     "data": {
      "text/plain": [
       "17"
      ]
     },
     "execution_count": 4,
     "metadata": {},
     "output_type": "execute_result"
    }
   ],
   "source": [
    "# This a simple arithmetic expression to mutiply then add integers\n",
    "(3*4)+5"
   ]
  },
  {
   "cell_type": "code",
   "execution_count": 6,
   "id": "5c895af9-6282-48af-9700-2f2a0b2d01f3",
   "metadata": {
    "tags": []
   },
   "outputs": [
    {
     "data": {
      "text/plain": [
       "3.3333333333333335"
      ]
     },
     "execution_count": 6,
     "metadata": {},
     "output_type": "execute_result"
    }
   ],
   "source": [
    "# This will convert 200 minutes to hours by diving by 60\n",
    "(200/60)"
   ]
  },
  {
   "cell_type": "markdown",
   "id": "2cb1d878-2f80-481e-b1ef-c9ee82e9f219",
   "metadata": {
    "tags": []
   },
   "source": [
    "**Objectives:**\n",
    "\n",
    "- Data Science tools\n",
    "- Popular Data Science languages\n",
    "- Popular Data Science libraries\n",
    "- Arithmetic expression to multiply then add integers\n",
    "- Minutes to hours conversion\n"
   ]
  },
  {
   "cell_type": "markdown",
   "id": "23457ab9-60c0-4e49-8d90-1a792b49da4d",
   "metadata": {},
   "source": [
    "## Author"
   ]
  },
  {
   "cell_type": "markdown",
   "id": "bb2c5910-4cc9-4aba-b8e6-79bff604ff23",
   "metadata": {
    "tags": []
   },
   "source": [
    "Ilyas Bourzat"
   ]
  },
  {
   "cell_type": "code",
   "execution_count": null,
   "id": "5a3af329-9ef4-4974-9c7f-c70cb868f17c",
   "metadata": {},
   "outputs": [],
   "source": [
    "11-authordetails.png"
   ]
  }
 ],
 "metadata": {
  "kernelspec": {
   "display_name": "Python",
   "language": "python",
   "name": "conda-env-python-py"
  },
  "language_info": {
   "codemirror_mode": {
    "name": "ipython",
    "version": 3
   },
   "file_extension": ".py",
   "mimetype": "text/x-python",
   "name": "python",
   "nbconvert_exporter": "python",
   "pygments_lexer": "ipython3",
   "version": "3.7.12"
  }
 },
 "nbformat": 4,
 "nbformat_minor": 5
}
